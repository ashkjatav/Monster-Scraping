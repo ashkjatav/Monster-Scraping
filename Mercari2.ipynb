{
 "cells": [
  {
   "cell_type": "code",
   "execution_count": 1,
   "metadata": {
    "collapsed": true
   },
   "outputs": [],
   "source": [
    "import pandas as pd\n",
    "import numpy as np\n",
    "import matplotlib.pyplot as plt\n",
    "%matplotlib inline\n",
    "import time"
   ]
  },
  {
   "cell_type": "code",
   "execution_count": 2,
   "metadata": {
    "collapsed": true
   },
   "outputs": [],
   "source": [
    "data= pd.read_csv(\"train.tsv\", sep='\\t', na_values='NaN')"
   ]
  },
  {
   "cell_type": "code",
   "execution_count": 16,
   "metadata": {},
   "outputs": [
    {
     "data": {
      "text/html": [
       "<div>\n",
       "<style>\n",
       "    .dataframe thead tr:only-child th {\n",
       "        text-align: right;\n",
       "    }\n",
       "\n",
       "    .dataframe thead th {\n",
       "        text-align: left;\n",
       "    }\n",
       "\n",
       "    .dataframe tbody tr th {\n",
       "        vertical-align: top;\n",
       "    }\n",
       "</style>\n",
       "<table border=\"1\" class=\"dataframe\">\n",
       "  <thead>\n",
       "    <tr style=\"text-align: right;\">\n",
       "      <th></th>\n",
       "      <th>train_id</th>\n",
       "      <th>name</th>\n",
       "      <th>item_condition_id</th>\n",
       "      <th>category_name</th>\n",
       "      <th>brand_name</th>\n",
       "      <th>price</th>\n",
       "      <th>shipping</th>\n",
       "      <th>item_description</th>\n",
       "    </tr>\n",
       "  </thead>\n",
       "  <tbody>\n",
       "    <tr>\n",
       "      <th>0</th>\n",
       "      <td>0</td>\n",
       "      <td>MLB Cincinnati Reds T Shirt Size XL</td>\n",
       "      <td>3</td>\n",
       "      <td>Men/Tops/T-shirts</td>\n",
       "      <td>NaN</td>\n",
       "      <td>10.0</td>\n",
       "      <td>1</td>\n",
       "      <td>No description yet</td>\n",
       "    </tr>\n",
       "    <tr>\n",
       "      <th>1</th>\n",
       "      <td>1</td>\n",
       "      <td>Razer BlackWidow Chroma Keyboard</td>\n",
       "      <td>3</td>\n",
       "      <td>Electronics/Computers &amp; Tablets/Components &amp; P...</td>\n",
       "      <td>Razer</td>\n",
       "      <td>52.0</td>\n",
       "      <td>0</td>\n",
       "      <td>This keyboard is in great condition and works ...</td>\n",
       "    </tr>\n",
       "    <tr>\n",
       "      <th>2</th>\n",
       "      <td>2</td>\n",
       "      <td>AVA-VIV Blouse</td>\n",
       "      <td>1</td>\n",
       "      <td>Women/Tops &amp; Blouses/Blouse</td>\n",
       "      <td>Target</td>\n",
       "      <td>10.0</td>\n",
       "      <td>1</td>\n",
       "      <td>Adorable top with a hint of lace and a key hol...</td>\n",
       "    </tr>\n",
       "    <tr>\n",
       "      <th>3</th>\n",
       "      <td>3</td>\n",
       "      <td>Leather Horse Statues</td>\n",
       "      <td>1</td>\n",
       "      <td>Home/Home Décor/Home Décor Accents</td>\n",
       "      <td>NaN</td>\n",
       "      <td>35.0</td>\n",
       "      <td>1</td>\n",
       "      <td>New with tags. Leather horses. Retail for [rm]...</td>\n",
       "    </tr>\n",
       "    <tr>\n",
       "      <th>4</th>\n",
       "      <td>4</td>\n",
       "      <td>24K GOLD plated rose</td>\n",
       "      <td>1</td>\n",
       "      <td>Women/Jewelry/Necklaces</td>\n",
       "      <td>NaN</td>\n",
       "      <td>44.0</td>\n",
       "      <td>0</td>\n",
       "      <td>Complete with certificate of authenticity</td>\n",
       "    </tr>\n",
       "  </tbody>\n",
       "</table>\n",
       "</div>"
      ],
      "text/plain": [
       "   train_id                                 name  item_condition_id  \\\n",
       "0         0  MLB Cincinnati Reds T Shirt Size XL                  3   \n",
       "1         1     Razer BlackWidow Chroma Keyboard                  3   \n",
       "2         2                       AVA-VIV Blouse                  1   \n",
       "3         3                Leather Horse Statues                  1   \n",
       "4         4                 24K GOLD plated rose                  1   \n",
       "\n",
       "                                       category_name brand_name  price  \\\n",
       "0                                  Men/Tops/T-shirts        NaN   10.0   \n",
       "1  Electronics/Computers & Tablets/Components & P...      Razer   52.0   \n",
       "2                        Women/Tops & Blouses/Blouse     Target   10.0   \n",
       "3                 Home/Home Décor/Home Décor Accents        NaN   35.0   \n",
       "4                            Women/Jewelry/Necklaces        NaN   44.0   \n",
       "\n",
       "   shipping                                   item_description  \n",
       "0         1                                 No description yet  \n",
       "1         0  This keyboard is in great condition and works ...  \n",
       "2         1  Adorable top with a hint of lace and a key hol...  \n",
       "3         1  New with tags. Leather horses. Retail for [rm]...  \n",
       "4         0          Complete with certificate of authenticity  "
      ]
     },
     "execution_count": 16,
     "metadata": {},
     "output_type": "execute_result"
    }
   ],
   "source": [
    "data.head()"
   ]
  },
  {
   "cell_type": "code",
   "execution_count": 4,
   "metadata": {
    "collapsed": true
   },
   "outputs": [],
   "source": [
    "pd.set_option('display.max_colwidth', -1)"
   ]
  },
  {
   "cell_type": "code",
   "execution_count": 55,
   "metadata": {
    "collapsed": true
   },
   "outputs": [],
   "source": [
    "data11= data_2.dropna().copy()\n",
    "data12= data11.groupby('brand_name')['price'].sum()"
   ]
  },
  {
   "cell_type": "code",
   "execution_count": 12,
   "metadata": {},
   "outputs": [
    {
     "data": {
      "text/html": [
       "<script>requirejs.config({paths: { 'plotly': ['https://cdn.plot.ly/plotly-latest.min']},});if(!window.Plotly) {{require(['plotly'],function(plotly) {window.Plotly=plotly;});}}</script>"
      ],
      "text/vnd.plotly.v1+html": [
       "<script>requirejs.config({paths: { 'plotly': ['https://cdn.plot.ly/plotly-latest.min']},});if(!window.Plotly) {{require(['plotly'],function(plotly) {window.Plotly=plotly;});}}</script>"
      ]
     },
     "metadata": {},
     "output_type": "display_data"
    }
   ],
   "source": [
    "import cufflinks as cf\n",
    "import plotly.plotly as py\n",
    "from plotly.offline import download_plotlyjs, init_notebook_mode, plot, iplot\n",
    "init_notebook_mode(connected=True)\n",
    "plotly.tools.set_credentials_file(username='ashkjatav', api_key='qBv4ljnYHZWTcGbpF2rv')"
   ]
  },
  {
   "cell_type": "code",
   "execution_count": 5,
   "metadata": {
    "collapsed": true
   },
   "outputs": [],
   "source": [
    "from plotly.graph_objs import Bar"
   ]
  },
  {
   "cell_type": "code",
   "execution_count": 41,
   "metadata": {},
   "outputs": [
    {
     "data": {
      "text/plain": [
       "dtype('float64')"
      ]
     },
     "execution_count": 41,
     "metadata": {},
     "output_type": "execute_result"
    }
   ],
   "source": [
    "data13=pd.DataFrame(data11.groupby('brand_name')['price'].sum()).reset_index()\n",
    "data13.price.dtype"
   ]
  },
  {
   "cell_type": "code",
   "execution_count": 13,
   "metadata": {},
   "outputs": [
    {
     "data": {
      "text/plain": [
       "(60061, 2)"
      ]
     },
     "execution_count": 13,
     "metadata": {},
     "output_type": "execute_result"
    }
   ],
   "source": [
    "PC1_elec=data_2[data_2['Product_Category_1']=='Electronics']\n",
    "PC1_elec_train= PC1_elec[PC1_elec['brand_name'].notnull()]\n",
    "PC1_elec_train= PC1_elec_train[['brand_name', 'price']]\n",
    "PC1_elec_train.shape"
   ]
  },
  {
   "cell_type": "code",
   "execution_count": 17,
   "metadata": {
    "collapsed": true
   },
   "outputs": [],
   "source": [
    "import plotly.offline as offline\n",
    "import plotly.graph_objs as go"
   ]
  },
  {
   "cell_type": "code",
   "execution_count": 18,
   "metadata": {},
   "outputs": [
    {
     "name": "stderr",
     "output_type": "stream",
     "text": [
      "IOPub data rate exceeded.\n",
      "The notebook server will temporarily stop sending output\n",
      "to the client in order to avoid crashing it.\n",
      "To change this limit, set the config variable\n",
      "`--NotebookApp.iopub_data_rate_limit`.\n"
     ]
    },
    {
     "data": {
      "text/html": [
       "<script>function downloadimage(format, height, width, filename) {var p = document.getElementById('739153b6-8640-4a63-9c42-89d7cb91a83b');Plotly.downloadImage(p, {format: format, height: height, width: width, filename: filename});};if(document.readyState == 'complete') {{downloadimage('png', 2560, 1440, 'plot_image');}}</script>"
      ],
      "text/plain": [
       "<IPython.core.display.HTML object>"
      ]
     },
     "metadata": {},
     "output_type": "display_data"
    }
   ],
   "source": [
    "offline.iplot([{'x': PC1_elec_train['brand_name'], 'y': PC1_elec_train['price']}], image='png', image_height=2560, image_width=1440)"
   ]
  },
  {
   "cell_type": "code",
   "execution_count": 3,
   "metadata": {
    "collapsed": true
   },
   "outputs": [],
   "source": [
    "data1= pd.DataFrame(data['category_name'].str.split('/',expand=True))\n",
    "data1=data1.drop([3,4],axis=1)\n",
    "data1.columns= ['Product_Category_1','Product_Category_2','Product_Category_3']"
   ]
  },
  {
   "cell_type": "code",
   "execution_count": 4,
   "metadata": {},
   "outputs": [
    {
     "data": {
      "text/html": [
       "<div>\n",
       "<style>\n",
       "    .dataframe thead tr:only-child th {\n",
       "        text-align: right;\n",
       "    }\n",
       "\n",
       "    .dataframe thead th {\n",
       "        text-align: left;\n",
       "    }\n",
       "\n",
       "    .dataframe tbody tr th {\n",
       "        vertical-align: top;\n",
       "    }\n",
       "</style>\n",
       "<table border=\"1\" class=\"dataframe\">\n",
       "  <thead>\n",
       "    <tr style=\"text-align: right;\">\n",
       "      <th></th>\n",
       "      <th>Product_Category_1</th>\n",
       "      <th>Product_Category_2</th>\n",
       "      <th>Product_Category_3</th>\n",
       "    </tr>\n",
       "  </thead>\n",
       "  <tbody>\n",
       "    <tr>\n",
       "      <th>0</th>\n",
       "      <td>Men</td>\n",
       "      <td>Tops</td>\n",
       "      <td>T-shirts</td>\n",
       "    </tr>\n",
       "    <tr>\n",
       "      <th>1</th>\n",
       "      <td>Electronics</td>\n",
       "      <td>Computers &amp; Tablets</td>\n",
       "      <td>Components &amp; Parts</td>\n",
       "    </tr>\n",
       "    <tr>\n",
       "      <th>2</th>\n",
       "      <td>Women</td>\n",
       "      <td>Tops &amp; Blouses</td>\n",
       "      <td>Blouse</td>\n",
       "    </tr>\n",
       "    <tr>\n",
       "      <th>3</th>\n",
       "      <td>Home</td>\n",
       "      <td>Home Décor</td>\n",
       "      <td>Home Décor Accents</td>\n",
       "    </tr>\n",
       "    <tr>\n",
       "      <th>4</th>\n",
       "      <td>Women</td>\n",
       "      <td>Jewelry</td>\n",
       "      <td>Necklaces</td>\n",
       "    </tr>\n",
       "  </tbody>\n",
       "</table>\n",
       "</div>"
      ],
      "text/plain": [
       "  Product_Category_1   Product_Category_2  Product_Category_3\n",
       "0                Men                 Tops            T-shirts\n",
       "1        Electronics  Computers & Tablets  Components & Parts\n",
       "2              Women       Tops & Blouses              Blouse\n",
       "3               Home           Home Décor  Home Décor Accents\n",
       "4              Women              Jewelry           Necklaces"
      ]
     },
     "execution_count": 4,
     "metadata": {},
     "output_type": "execute_result"
    }
   ],
   "source": [
    "data1.head()"
   ]
  },
  {
   "cell_type": "code",
   "execution_count": 5,
   "metadata": {
    "collapsed": true
   },
   "outputs": [],
   "source": [
    "data_1= pd.concat([data, data1],axis=1).drop('category_name', axis=1)"
   ]
  },
  {
   "cell_type": "code",
   "execution_count": 6,
   "metadata": {},
   "outputs": [
    {
     "data": {
      "text/html": [
       "<div>\n",
       "<style>\n",
       "    .dataframe thead tr:only-child th {\n",
       "        text-align: right;\n",
       "    }\n",
       "\n",
       "    .dataframe thead th {\n",
       "        text-align: left;\n",
       "    }\n",
       "\n",
       "    .dataframe tbody tr th {\n",
       "        vertical-align: top;\n",
       "    }\n",
       "</style>\n",
       "<table border=\"1\" class=\"dataframe\">\n",
       "  <thead>\n",
       "    <tr style=\"text-align: right;\">\n",
       "      <th></th>\n",
       "      <th>train_id</th>\n",
       "      <th>name</th>\n",
       "      <th>item_condition_id</th>\n",
       "      <th>brand_name</th>\n",
       "      <th>price</th>\n",
       "      <th>shipping</th>\n",
       "      <th>item_description</th>\n",
       "      <th>Product_Category_1</th>\n",
       "      <th>Product_Category_2</th>\n",
       "      <th>Product_Category_3</th>\n",
       "    </tr>\n",
       "  </thead>\n",
       "  <tbody>\n",
       "    <tr>\n",
       "      <th>0</th>\n",
       "      <td>0</td>\n",
       "      <td>MLB Cincinnati Reds T Shirt Size XL</td>\n",
       "      <td>3</td>\n",
       "      <td>NaN</td>\n",
       "      <td>10.0</td>\n",
       "      <td>1</td>\n",
       "      <td>No description yet</td>\n",
       "      <td>Men</td>\n",
       "      <td>Tops</td>\n",
       "      <td>T-shirts</td>\n",
       "    </tr>\n",
       "    <tr>\n",
       "      <th>1</th>\n",
       "      <td>1</td>\n",
       "      <td>Razer BlackWidow Chroma Keyboard</td>\n",
       "      <td>3</td>\n",
       "      <td>Razer</td>\n",
       "      <td>52.0</td>\n",
       "      <td>0</td>\n",
       "      <td>This keyboard is in great condition and works ...</td>\n",
       "      <td>Electronics</td>\n",
       "      <td>Computers &amp; Tablets</td>\n",
       "      <td>Components &amp; Parts</td>\n",
       "    </tr>\n",
       "    <tr>\n",
       "      <th>2</th>\n",
       "      <td>2</td>\n",
       "      <td>AVA-VIV Blouse</td>\n",
       "      <td>1</td>\n",
       "      <td>Target</td>\n",
       "      <td>10.0</td>\n",
       "      <td>1</td>\n",
       "      <td>Adorable top with a hint of lace and a key hol...</td>\n",
       "      <td>Women</td>\n",
       "      <td>Tops &amp; Blouses</td>\n",
       "      <td>Blouse</td>\n",
       "    </tr>\n",
       "    <tr>\n",
       "      <th>3</th>\n",
       "      <td>3</td>\n",
       "      <td>Leather Horse Statues</td>\n",
       "      <td>1</td>\n",
       "      <td>NaN</td>\n",
       "      <td>35.0</td>\n",
       "      <td>1</td>\n",
       "      <td>New with tags. Leather horses. Retail for [rm]...</td>\n",
       "      <td>Home</td>\n",
       "      <td>Home Décor</td>\n",
       "      <td>Home Décor Accents</td>\n",
       "    </tr>\n",
       "    <tr>\n",
       "      <th>4</th>\n",
       "      <td>4</td>\n",
       "      <td>24K GOLD plated rose</td>\n",
       "      <td>1</td>\n",
       "      <td>NaN</td>\n",
       "      <td>44.0</td>\n",
       "      <td>0</td>\n",
       "      <td>Complete with certificate of authenticity</td>\n",
       "      <td>Women</td>\n",
       "      <td>Jewelry</td>\n",
       "      <td>Necklaces</td>\n",
       "    </tr>\n",
       "  </tbody>\n",
       "</table>\n",
       "</div>"
      ],
      "text/plain": [
       "   train_id                                 name  item_condition_id  \\\n",
       "0         0  MLB Cincinnati Reds T Shirt Size XL                  3   \n",
       "1         1     Razer BlackWidow Chroma Keyboard                  3   \n",
       "2         2                       AVA-VIV Blouse                  1   \n",
       "3         3                Leather Horse Statues                  1   \n",
       "4         4                 24K GOLD plated rose                  1   \n",
       "\n",
       "  brand_name  price  shipping  \\\n",
       "0        NaN   10.0         1   \n",
       "1      Razer   52.0         0   \n",
       "2     Target   10.0         1   \n",
       "3        NaN   35.0         1   \n",
       "4        NaN   44.0         0   \n",
       "\n",
       "                                    item_description Product_Category_1  \\\n",
       "0                                 No description yet                Men   \n",
       "1  This keyboard is in great condition and works ...        Electronics   \n",
       "2  Adorable top with a hint of lace and a key hol...              Women   \n",
       "3  New with tags. Leather horses. Retail for [rm]...               Home   \n",
       "4          Complete with certificate of authenticity              Women   \n",
       "\n",
       "    Product_Category_2  Product_Category_3  \n",
       "0                 Tops            T-shirts  \n",
       "1  Computers & Tablets  Components & Parts  \n",
       "2       Tops & Blouses              Blouse  \n",
       "3           Home Décor  Home Décor Accents  \n",
       "4              Jewelry           Necklaces  "
      ]
     },
     "execution_count": 6,
     "metadata": {},
     "output_type": "execute_result"
    }
   ],
   "source": [
    "data_1.head()"
   ]
  },
  {
   "cell_type": "code",
   "execution_count": 7,
   "metadata": {
    "collapsed": true
   },
   "outputs": [],
   "source": [
    "import nltk\n",
    "import re\n",
    "import string"
   ]
  },
  {
   "cell_type": "code",
   "execution_count": 8,
   "metadata": {
    "collapsed": true
   },
   "outputs": [],
   "source": [
    "i = nltk.corpus.stopwords.words('english')\n",
    "j = list(string.punctuation) \n",
    "\n",
    "stopwords = set(i).union(j)"
   ]
  },
  {
   "cell_type": "code",
   "execution_count": 9,
   "metadata": {
    "collapsed": true
   },
   "outputs": [],
   "source": [
    "def preprocess(x):\n",
    "    x = re.sub('[^a-z\\s]', '', x.lower())                  # get rid of noise\n",
    "    x = [w for w in x.split() if w not in set(stopwords)]  # remove stopwords\n",
    "    return ' '.join(x) "
   ]
  },
  {
   "cell_type": "code",
   "execution_count": 10,
   "metadata": {},
   "outputs": [
    {
     "data": {
      "text/html": [
       "<div>\n",
       "<style>\n",
       "    .dataframe thead tr:only-child th {\n",
       "        text-align: right;\n",
       "    }\n",
       "\n",
       "    .dataframe thead th {\n",
       "        text-align: left;\n",
       "    }\n",
       "\n",
       "    .dataframe tbody tr th {\n",
       "        vertical-align: top;\n",
       "    }\n",
       "</style>\n",
       "<table border=\"1\" class=\"dataframe\">\n",
       "  <thead>\n",
       "    <tr style=\"text-align: right;\">\n",
       "      <th></th>\n",
       "      <th>train_id</th>\n",
       "      <th>item_condition_id</th>\n",
       "      <th>brand_name</th>\n",
       "      <th>price</th>\n",
       "      <th>shipping</th>\n",
       "      <th>item_description</th>\n",
       "      <th>Product_Category_1</th>\n",
       "      <th>Product_Category_2</th>\n",
       "      <th>Product_Category_3</th>\n",
       "      <th>name1</th>\n",
       "    </tr>\n",
       "  </thead>\n",
       "  <tbody>\n",
       "    <tr>\n",
       "      <th>0</th>\n",
       "      <td>0</td>\n",
       "      <td>3</td>\n",
       "      <td>NaN</td>\n",
       "      <td>10.0</td>\n",
       "      <td>1</td>\n",
       "      <td>No description yet</td>\n",
       "      <td>Men</td>\n",
       "      <td>Tops</td>\n",
       "      <td>T-shirts</td>\n",
       "      <td>mlb cincinnati reds shirt size xl</td>\n",
       "    </tr>\n",
       "    <tr>\n",
       "      <th>1</th>\n",
       "      <td>1</td>\n",
       "      <td>3</td>\n",
       "      <td>Razer</td>\n",
       "      <td>52.0</td>\n",
       "      <td>0</td>\n",
       "      <td>This keyboard is in great condition and works ...</td>\n",
       "      <td>Electronics</td>\n",
       "      <td>Computers &amp; Tablets</td>\n",
       "      <td>Components &amp; Parts</td>\n",
       "      <td>razer blackwidow chroma keyboard</td>\n",
       "    </tr>\n",
       "    <tr>\n",
       "      <th>2</th>\n",
       "      <td>2</td>\n",
       "      <td>1</td>\n",
       "      <td>Target</td>\n",
       "      <td>10.0</td>\n",
       "      <td>1</td>\n",
       "      <td>Adorable top with a hint of lace and a key hol...</td>\n",
       "      <td>Women</td>\n",
       "      <td>Tops &amp; Blouses</td>\n",
       "      <td>Blouse</td>\n",
       "      <td>avaviv blouse</td>\n",
       "    </tr>\n",
       "    <tr>\n",
       "      <th>3</th>\n",
       "      <td>3</td>\n",
       "      <td>1</td>\n",
       "      <td>NaN</td>\n",
       "      <td>35.0</td>\n",
       "      <td>1</td>\n",
       "      <td>New with tags. Leather horses. Retail for [rm]...</td>\n",
       "      <td>Home</td>\n",
       "      <td>Home Décor</td>\n",
       "      <td>Home Décor Accents</td>\n",
       "      <td>leather horse statues</td>\n",
       "    </tr>\n",
       "    <tr>\n",
       "      <th>4</th>\n",
       "      <td>4</td>\n",
       "      <td>1</td>\n",
       "      <td>NaN</td>\n",
       "      <td>44.0</td>\n",
       "      <td>0</td>\n",
       "      <td>Complete with certificate of authenticity</td>\n",
       "      <td>Women</td>\n",
       "      <td>Jewelry</td>\n",
       "      <td>Necklaces</td>\n",
       "      <td>k gold plated rose</td>\n",
       "    </tr>\n",
       "  </tbody>\n",
       "</table>\n",
       "</div>"
      ],
      "text/plain": [
       "   train_id  item_condition_id brand_name  price  shipping  \\\n",
       "0         0                  3        NaN   10.0         1   \n",
       "1         1                  3      Razer   52.0         0   \n",
       "2         2                  1     Target   10.0         1   \n",
       "3         3                  1        NaN   35.0         1   \n",
       "4         4                  1        NaN   44.0         0   \n",
       "\n",
       "                                    item_description Product_Category_1  \\\n",
       "0                                 No description yet                Men   \n",
       "1  This keyboard is in great condition and works ...        Electronics   \n",
       "2  Adorable top with a hint of lace and a key hol...              Women   \n",
       "3  New with tags. Leather horses. Retail for [rm]...               Home   \n",
       "4          Complete with certificate of authenticity              Women   \n",
       "\n",
       "    Product_Category_2  Product_Category_3                              name1  \n",
       "0                 Tops            T-shirts  mlb cincinnati reds shirt size xl  \n",
       "1  Computers & Tablets  Components & Parts   razer blackwidow chroma keyboard  \n",
       "2       Tops & Blouses              Blouse                      avaviv blouse  \n",
       "3           Home Décor  Home Décor Accents              leather horse statues  \n",
       "4              Jewelry           Necklaces                 k gold plated rose  "
      ]
     },
     "execution_count": 10,
     "metadata": {},
     "output_type": "execute_result"
    }
   ],
   "source": [
    "data_1['name1'] = data_1['name'].apply(preprocess)\n",
    "data_1.drop('name', axis=1, inplace=True)\n",
    "data_1.head()"
   ]
  },
  {
   "cell_type": "code",
   "execution_count": 12,
   "metadata": {
    "collapsed": true
   },
   "outputs": [],
   "source": [
    "data_2= data_1[['train_id', 'name1', 'item_condition_id', 'brand_name', 'shipping', 'Product_Category_1', 'Product_Category_2', 'Product_Category_3','item_description', 'price' ]].copy()"
   ]
  },
  {
   "cell_type": "code",
   "execution_count": 12,
   "metadata": {},
   "outputs": [
    {
     "data": {
      "text/html": [
       "<div>\n",
       "<style>\n",
       "    .dataframe thead tr:only-child th {\n",
       "        text-align: right;\n",
       "    }\n",
       "\n",
       "    .dataframe thead th {\n",
       "        text-align: left;\n",
       "    }\n",
       "\n",
       "    .dataframe tbody tr th {\n",
       "        vertical-align: top;\n",
       "    }\n",
       "</style>\n",
       "<table border=\"1\" class=\"dataframe\">\n",
       "  <thead>\n",
       "    <tr style=\"text-align: right;\">\n",
       "      <th></th>\n",
       "      <th>train_id</th>\n",
       "      <th>name1</th>\n",
       "      <th>item_condition_id</th>\n",
       "      <th>brand_name</th>\n",
       "      <th>shipping</th>\n",
       "      <th>Product_Category_1</th>\n",
       "      <th>Product_Category_2</th>\n",
       "      <th>Product_Category_3</th>\n",
       "      <th>item_description</th>\n",
       "      <th>price</th>\n",
       "    </tr>\n",
       "  </thead>\n",
       "  <tbody>\n",
       "    <tr>\n",
       "      <th>0</th>\n",
       "      <td>0</td>\n",
       "      <td>mlb cincinnati reds shirt size xl</td>\n",
       "      <td>3</td>\n",
       "      <td>NaN</td>\n",
       "      <td>1</td>\n",
       "      <td>Men</td>\n",
       "      <td>Tops</td>\n",
       "      <td>T-shirts</td>\n",
       "      <td>No description yet</td>\n",
       "      <td>10.0</td>\n",
       "    </tr>\n",
       "    <tr>\n",
       "      <th>1</th>\n",
       "      <td>1</td>\n",
       "      <td>razer blackwidow chroma keyboard</td>\n",
       "      <td>3</td>\n",
       "      <td>Razer</td>\n",
       "      <td>0</td>\n",
       "      <td>Electronics</td>\n",
       "      <td>Computers &amp; Tablets</td>\n",
       "      <td>Components &amp; Parts</td>\n",
       "      <td>This keyboard is in great condition and works ...</td>\n",
       "      <td>52.0</td>\n",
       "    </tr>\n",
       "    <tr>\n",
       "      <th>2</th>\n",
       "      <td>2</td>\n",
       "      <td>avaviv blouse</td>\n",
       "      <td>1</td>\n",
       "      <td>Target</td>\n",
       "      <td>1</td>\n",
       "      <td>Women</td>\n",
       "      <td>Tops &amp; Blouses</td>\n",
       "      <td>Blouse</td>\n",
       "      <td>Adorable top with a hint of lace and a key hol...</td>\n",
       "      <td>10.0</td>\n",
       "    </tr>\n",
       "    <tr>\n",
       "      <th>3</th>\n",
       "      <td>3</td>\n",
       "      <td>leather horse statues</td>\n",
       "      <td>1</td>\n",
       "      <td>NaN</td>\n",
       "      <td>1</td>\n",
       "      <td>Home</td>\n",
       "      <td>Home Décor</td>\n",
       "      <td>Home Décor Accents</td>\n",
       "      <td>New with tags. Leather horses. Retail for [rm]...</td>\n",
       "      <td>35.0</td>\n",
       "    </tr>\n",
       "    <tr>\n",
       "      <th>4</th>\n",
       "      <td>4</td>\n",
       "      <td>k gold plated rose</td>\n",
       "      <td>1</td>\n",
       "      <td>NaN</td>\n",
       "      <td>0</td>\n",
       "      <td>Women</td>\n",
       "      <td>Jewelry</td>\n",
       "      <td>Necklaces</td>\n",
       "      <td>Complete with certificate of authenticity</td>\n",
       "      <td>44.0</td>\n",
       "    </tr>\n",
       "  </tbody>\n",
       "</table>\n",
       "</div>"
      ],
      "text/plain": [
       "   train_id                              name1  item_condition_id brand_name  \\\n",
       "0         0  mlb cincinnati reds shirt size xl                  3        NaN   \n",
       "1         1   razer blackwidow chroma keyboard                  3      Razer   \n",
       "2         2                      avaviv blouse                  1     Target   \n",
       "3         3              leather horse statues                  1        NaN   \n",
       "4         4                 k gold plated rose                  1        NaN   \n",
       "\n",
       "   shipping Product_Category_1   Product_Category_2  Product_Category_3  \\\n",
       "0         1                Men                 Tops            T-shirts   \n",
       "1         0        Electronics  Computers & Tablets  Components & Parts   \n",
       "2         1              Women       Tops & Blouses              Blouse   \n",
       "3         1               Home           Home Décor  Home Décor Accents   \n",
       "4         0              Women              Jewelry           Necklaces   \n",
       "\n",
       "                                    item_description  price  \n",
       "0                                 No description yet   10.0  \n",
       "1  This keyboard is in great condition and works ...   52.0  \n",
       "2  Adorable top with a hint of lace and a key hol...   10.0  \n",
       "3  New with tags. Leather horses. Retail for [rm]...   35.0  \n",
       "4          Complete with certificate of authenticity   44.0  "
      ]
     },
     "execution_count": 12,
     "metadata": {},
     "output_type": "execute_result"
    }
   ],
   "source": [
    "data_2.head()"
   ]
  },
  {
   "cell_type": "code",
   "execution_count": 17,
   "metadata": {},
   "outputs": [
    {
     "data": {
      "text/plain": [
       "train_id              0     \n",
       "name1                 0     \n",
       "item_condition_id     0     \n",
       "brand_name            632682\n",
       "shipping              0     \n",
       "Product_Category_1    6327  \n",
       "Product_Category_2    6327  \n",
       "Product_Category_3    6327  \n",
       "item_description      4     \n",
       "price                 0     \n",
       "dtype: int64"
      ]
     },
     "execution_count": 17,
     "metadata": {},
     "output_type": "execute_result"
    }
   ],
   "source": [
    "data_2.groupby('Product_Category_1')['Product_Category_1'].count()\n",
    "data_2.isnull().sum()"
   ]
  },
  {
   "cell_type": "code",
   "execution_count": 18,
   "metadata": {},
   "outputs": [
    {
     "data": {
      "text/plain": [
       "train_id              0     \n",
       "name1                 0     \n",
       "item_condition_id     0     \n",
       "brand_name            629225\n",
       "shipping              0     \n",
       "Product_Category_1    0     \n",
       "Product_Category_2    0     \n",
       "Product_Category_3    0     \n",
       "item_description      4     \n",
       "price                 0     \n",
       "dtype: int64"
      ]
     },
     "execution_count": 18,
     "metadata": {},
     "output_type": "execute_result"
    }
   ],
   "source": [
    "data_2= data_2[data_2['Product_Category_1'].notnull()]\n",
    "data_2.isnull().sum()"
   ]
  },
  {
   "cell_type": "code",
   "execution_count": 19,
   "metadata": {
    "scrolled": false
   },
   "outputs": [
    {
     "data": {
      "text/plain": [
       "Product_Category_1\n",
       "Beauty                    207828\n",
       "Electronics               122690\n",
       "Handmade                  30842 \n",
       "Home                      67871 \n",
       "Kids                      171689\n",
       "Men                       93680 \n",
       "Other                     45351 \n",
       "Sports & Outdoors         25342 \n",
       "Vintage & Collectibles    46530 \n",
       "Women                     664385\n",
       "Name: Product_Category_1, dtype: int64"
      ]
     },
     "execution_count": 19,
     "metadata": {},
     "output_type": "execute_result"
    }
   ],
   "source": [
    "data_2.groupby('Product_Category_1')['Product_Category_1'].count()"
   ]
  },
  {
   "cell_type": "code",
   "execution_count": 22,
   "metadata": {},
   "outputs": [
    {
     "data": {
      "text/html": [
       "<div>\n",
       "<style>\n",
       "    .dataframe thead tr:only-child th {\n",
       "        text-align: right;\n",
       "    }\n",
       "\n",
       "    .dataframe thead th {\n",
       "        text-align: left;\n",
       "    }\n",
       "\n",
       "    .dataframe tbody tr th {\n",
       "        vertical-align: top;\n",
       "    }\n",
       "</style>\n",
       "<table border=\"1\" class=\"dataframe\">\n",
       "  <thead>\n",
       "    <tr style=\"text-align: right;\">\n",
       "      <th></th>\n",
       "      <th>name1</th>\n",
       "      <th>brand_name</th>\n",
       "    </tr>\n",
       "  </thead>\n",
       "  <tbody>\n",
       "    <tr>\n",
       "      <th>1</th>\n",
       "      <td>razer blackwidow chroma keyboard</td>\n",
       "      <td>Razer</td>\n",
       "    </tr>\n",
       "    <tr>\n",
       "      <th>22</th>\n",
       "      <td>galaxy edge unlocked gb</td>\n",
       "      <td>Samsung</td>\n",
       "    </tr>\n",
       "    <tr>\n",
       "      <th>26</th>\n",
       "      <td>otterbox defender iphone pluss plus</td>\n",
       "      <td>Apple</td>\n",
       "    </tr>\n",
       "    <tr>\n",
       "      <th>38</th>\n",
       "      <td>xbox one</td>\n",
       "      <td>Xbox</td>\n",
       "    </tr>\n",
       "    <tr>\n",
       "      <th>91</th>\n",
       "      <td>goosebumps horrorland ds game</td>\n",
       "      <td>Nintendo</td>\n",
       "    </tr>\n",
       "  </tbody>\n",
       "</table>\n",
       "</div>"
      ],
      "text/plain": [
       "                                  name1 brand_name\n",
       "1   razer blackwidow chroma keyboard     Razer    \n",
       "22  galaxy edge unlocked gb              Samsung  \n",
       "26  otterbox defender iphone pluss plus  Apple    \n",
       "38  xbox one                             Xbox     \n",
       "91  goosebumps horrorland ds game        Nintendo "
      ]
     },
     "execution_count": 22,
     "metadata": {},
     "output_type": "execute_result"
    }
   ],
   "source": [
    "PC1_elec=data_2[data_2['Product_Category_1']=='Electronics']\n",
    "PC1_elec_train= PC1_elec[PC1_elec['brand_name'].notnull()]\n",
    "PC1_elec_train= PC1_elec_train[['name1', 'brand_name']]\n",
    "PC1_elec_train.head()"
   ]
  },
  {
   "cell_type": "code",
   "execution_count": 30,
   "metadata": {},
   "outputs": [
    {
     "data": {
      "text/html": [
       "<div>\n",
       "<style>\n",
       "    .dataframe thead tr:only-child th {\n",
       "        text-align: right;\n",
       "    }\n",
       "\n",
       "    .dataframe thead th {\n",
       "        text-align: left;\n",
       "    }\n",
       "\n",
       "    .dataframe tbody tr th {\n",
       "        vertical-align: top;\n",
       "    }\n",
       "</style>\n",
       "<table border=\"1\" class=\"dataframe\">\n",
       "  <thead>\n",
       "    <tr style=\"text-align: right;\">\n",
       "      <th></th>\n",
       "      <th>name1</th>\n",
       "    </tr>\n",
       "  </thead>\n",
       "  <tbody>\n",
       "    <tr>\n",
       "      <th>23</th>\n",
       "      <td>triple car charger</td>\n",
       "    </tr>\n",
       "    <tr>\n",
       "      <th>59</th>\n",
       "      <td>hv sports bluetooth headset</td>\n",
       "    </tr>\n",
       "    <tr>\n",
       "      <th>69</th>\n",
       "      <td>iphone marble design case</td>\n",
       "    </tr>\n",
       "    <tr>\n",
       "      <th>97</th>\n",
       "      <td>iphone mickey ear case</td>\n",
       "    </tr>\n",
       "    <tr>\n",
       "      <th>175</th>\n",
       "      <td>paw paw usb cable saver costume</td>\n",
       "    </tr>\n",
       "  </tbody>\n",
       "</table>\n",
       "</div>"
      ],
      "text/plain": [
       "                               name1\n",
       "23   triple car charger             \n",
       "59   hv sports bluetooth headset    \n",
       "69   iphone marble design case      \n",
       "97   iphone mickey ear case         \n",
       "175  paw paw usb cable saver costume"
      ]
     },
     "execution_count": 30,
     "metadata": {},
     "output_type": "execute_result"
    }
   ],
   "source": [
    "PC1_elec_test= PC1_elec[PC1_elec['brand_name'].isnull()]\n",
    "PC1_elec_test= PC1_elec_test[['name1']]\n",
    "PC1_elec_test.head()"
   ]
  },
  {
   "cell_type": "code",
   "execution_count": null,
   "metadata": {
    "collapsed": true
   },
   "outputs": [],
   "source": []
  },
  {
   "cell_type": "code",
   "execution_count": 20,
   "metadata": {
    "collapsed": true
   },
   "outputs": [],
   "source": [
    "from sklearn.feature_extraction.text import TfidfVectorizer"
   ]
  },
  {
   "cell_type": "code",
   "execution_count": 21,
   "metadata": {
    "collapsed": true
   },
   "outputs": [],
   "source": [
    "vectorizertr = TfidfVectorizer(stop_words='english',\n",
    "                             ngram_range = ( 1 , 1 ),analyzer=\"word\", \n",
    "                             max_df = .57 , binary=False , token_pattern=r'\\w+' , sublinear_tf=False)\n",
    "vectorizerts = TfidfVectorizer(stop_words='english')"
   ]
  },
  {
   "cell_type": "code",
   "execution_count": 25,
   "metadata": {
    "collapsed": true
   },
   "outputs": [],
   "source": [
    "corpus_PC1_elec_train = PC1_elec_train['name1']\n",
    "tfidftr_PC1_elec_train=vectorizertr.fit_transform(corpus_PC1_elec_train).todense()\n",
    "corpus_PC1_elec_test = PC1_elec_test['name1']\n",
    "tfidfts_PC1_elec_test=vectorizertr.transform(corpus_PC1_elec_test)"
   ]
  },
  {
   "cell_type": "code",
   "execution_count": 26,
   "metadata": {
    "collapsed": true
   },
   "outputs": [],
   "source": [
    "from sklearn.linear_model import LogisticRegression\n",
    "from sklearn.svm import SVC\n",
    "from sklearn.ensemble import BaggingClassifier, RandomForestClassifier\n",
    "from sklearn.multiclass import OneVsRestClassifier\n",
    "import time"
   ]
  },
  {
   "cell_type": "code",
   "execution_count": 27,
   "metadata": {
    "collapsed": true
   },
   "outputs": [],
   "source": [
    "predictors_tr_elec = tfidftr_PC1_elec_train\n",
    "\n",
    "targets_tr_elec = PC1_elec_train['brand_name']\n",
    "\n",
    "predictors_ts_elec = tfidfts_PC1_elec_test"
   ]
  },
  {
   "cell_type": "code",
   "execution_count": 28,
   "metadata": {
    "collapsed": true
   },
   "outputs": [],
   "source": [
    "start= time.time()\n",
    "clf= LogisticRegression()\n",
    "#clf = RandomForestClassifier(min_samples_leaf=20)\n",
    "classifier_elec=clf.fit(predictors_tr_elec,targets_tr_elec)\n",
    "predictions_elec=classifier_elec.predict(predictors_ts_elec)\n",
    "end= time.time()"
   ]
  },
  {
   "cell_type": "code",
   "execution_count": 78,
   "metadata": {
    "collapsed": true
   },
   "outputs": [],
   "source": [
    "PC1_elec_test['brand_name'] = predictions_elec"
   ]
  },
  {
   "cell_type": "code",
   "execution_count": 94,
   "metadata": {},
   "outputs": [
    {
     "data": {
      "text/plain": [
       "'Nintendo'"
      ]
     },
     "execution_count": 94,
     "metadata": {},
     "output_type": "execute_result"
    }
   ],
   "source": [
    "PC1_elec_test.loc[1482322,'brand_name']"
   ]
  },
  {
   "cell_type": "code",
   "execution_count": 20,
   "metadata": {},
   "outputs": [
    {
     "data": {
      "text/html": [
       "<div>\n",
       "<style>\n",
       "    .dataframe thead tr:only-child th {\n",
       "        text-align: right;\n",
       "    }\n",
       "\n",
       "    .dataframe thead th {\n",
       "        text-align: left;\n",
       "    }\n",
       "\n",
       "    .dataframe tbody tr th {\n",
       "        vertical-align: top;\n",
       "    }\n",
       "</style>\n",
       "<table border=\"1\" class=\"dataframe\">\n",
       "  <thead>\n",
       "    <tr style=\"text-align: right;\">\n",
       "      <th></th>\n",
       "      <th>name1</th>\n",
       "      <th>brand_name</th>\n",
       "    </tr>\n",
       "  </thead>\n",
       "  <tbody>\n",
       "    <tr>\n",
       "      <th>10</th>\n",
       "      <td>smashbox primer</td>\n",
       "      <td>Smashbox</td>\n",
       "    </tr>\n",
       "    <tr>\n",
       "      <th>11</th>\n",
       "      <td>new vs pi k body mists</td>\n",
       "      <td>Victoria's Secret</td>\n",
       "    </tr>\n",
       "    <tr>\n",
       "      <th>15</th>\n",
       "      <td>sephora tarte birthday gift</td>\n",
       "      <td>Tarte</td>\n",
       "    </tr>\n",
       "    <tr>\n",
       "      <th>16</th>\n",
       "      <td>glitter eyeshadow</td>\n",
       "      <td>Wet n Wild</td>\n",
       "    </tr>\n",
       "    <tr>\n",
       "      <th>18</th>\n",
       "      <td>faced limited merry macaroons</td>\n",
       "      <td>Too Faced</td>\n",
       "    </tr>\n",
       "  </tbody>\n",
       "</table>\n",
       "</div>"
      ],
      "text/plain": [
       "                            name1         brand_name\n",
       "10                smashbox primer           Smashbox\n",
       "11         new vs pi k body mists  Victoria's Secret\n",
       "15    sephora tarte birthday gift              Tarte\n",
       "16              glitter eyeshadow         Wet n Wild\n",
       "18  faced limited merry macaroons          Too Faced"
      ]
     },
     "execution_count": 20,
     "metadata": {},
     "output_type": "execute_result"
    }
   ],
   "source": [
    "PC1_beat=data_2[data_2['Product_Category_1']=='Beauty']\n",
    "PC1_beat_train= PC1_beat[PC1_beat['brand_name'].notnull()]\n",
    "PC1_beat_train= PC1_beat_train[['name1', 'brand_name']]\n",
    "PC1_beat_train.head()"
   ]
  },
  {
   "cell_type": "code",
   "execution_count": 21,
   "metadata": {},
   "outputs": [
    {
     "data": {
      "text/html": [
       "<div>\n",
       "<style>\n",
       "    .dataframe thead tr:only-child th {\n",
       "        text-align: right;\n",
       "    }\n",
       "\n",
       "    .dataframe thead th {\n",
       "        text-align: left;\n",
       "    }\n",
       "\n",
       "    .dataframe tbody tr th {\n",
       "        vertical-align: top;\n",
       "    }\n",
       "</style>\n",
       "<table border=\"1\" class=\"dataframe\">\n",
       "  <thead>\n",
       "    <tr style=\"text-align: right;\">\n",
       "      <th></th>\n",
       "      <th>name1</th>\n",
       "    </tr>\n",
       "  </thead>\n",
       "  <tbody>\n",
       "    <tr>\n",
       "      <th>42</th>\n",
       "      <td>lots korean nature republic face mask</td>\n",
       "    </tr>\n",
       "    <tr>\n",
       "      <th>43</th>\n",
       "      <td>apricot beige stick foundation</td>\n",
       "    </tr>\n",
       "    <tr>\n",
       "      <th>49</th>\n",
       "      <td>younique fiber lash mascara</td>\n",
       "    </tr>\n",
       "    <tr>\n",
       "      <th>82</th>\n",
       "      <td>mascara bundle</td>\n",
       "    </tr>\n",
       "    <tr>\n",
       "      <th>83</th>\n",
       "      <td>eyebrows essential kit medium brown</td>\n",
       "    </tr>\n",
       "  </tbody>\n",
       "</table>\n",
       "</div>"
      ],
      "text/plain": [
       "                                    name1\n",
       "42  lots korean nature republic face mask\n",
       "43         apricot beige stick foundation\n",
       "49            younique fiber lash mascara\n",
       "82                         mascara bundle\n",
       "83    eyebrows essential kit medium brown"
      ]
     },
     "execution_count": 21,
     "metadata": {},
     "output_type": "execute_result"
    }
   ],
   "source": [
    "PC1_beat_test= PC1_beat[PC1_beat['brand_name'].isnull()]\n",
    "PC1_beat_test= PC1_beat_test[['name1']]\n",
    "PC1_beat_test.head()"
   ]
  },
  {
   "cell_type": "code",
   "execution_count": 29,
   "metadata": {
    "collapsed": true
   },
   "outputs": [],
   "source": [
    "corpus_PC1_beat_train = PC1_beat_train['name1']\n",
    "tfidftr_PC1_beat_train=vectorizertr.fit_transform(corpus_PC1_beat_train)\n",
    "corpus_PC1_beat_test = PC1_beat_test['name1']\n",
    "tfidfts_PC1_beat_test=vectorizertr.transform(corpus_PC1_beat_test)"
   ]
  },
  {
   "cell_type": "code",
   "execution_count": 30,
   "metadata": {
    "collapsed": true
   },
   "outputs": [],
   "source": [
    "predictors_tr_beat = tfidftr_PC1_beat_train\n",
    "\n",
    "targets_tr_beat = PC1_beat_train['brand_name']\n",
    "\n",
    "predictors_ts_beat = tfidfts_PC1_beat_test"
   ]
  },
  {
   "cell_type": "code",
   "execution_count": null,
   "metadata": {
    "collapsed": true
   },
   "outputs": [],
   "source": [
    "start= time.time()\n",
    "#clf= LogisticRegression()\n",
    "#clf = RandomForestClassifier(min_samples_leaf=20)\n",
    "clf= SVC()\n",
    "classifier_beat=clf.fit(predictors_tr_beat,targets_tr_beat)\n",
    "predictions_beat=classifier_beat.predict(predictors_ts_beat)\n",
    "end= time.time()"
   ]
  },
  {
   "cell_type": "code",
   "execution_count": 32,
   "metadata": {
    "collapsed": true
   },
   "outputs": [],
   "source": [
    "PC1_beat_test['brand_name'] = predictions_beat"
   ]
  },
  {
   "cell_type": "code",
   "execution_count": 29,
   "metadata": {},
   "outputs": [
    {
     "ename": "NameError",
     "evalue": "name 'PC1_beat_test' is not defined",
     "output_type": "error",
     "traceback": [
      "\u001b[1;31m---------------------------------------------------------------------------\u001b[0m",
      "\u001b[1;31mNameError\u001b[0m                                 Traceback (most recent call last)",
      "\u001b[1;32m<ipython-input-29-a5dbb1aacc94>\u001b[0m in \u001b[0;36m<module>\u001b[1;34m()\u001b[0m\n\u001b[1;32m----> 1\u001b[1;33m \u001b[0mPC1_beat_test\u001b[0m\u001b[1;33m[\u001b[0m\u001b[0mPC1_beat_test\u001b[0m\u001b[1;33m[\u001b[0m\u001b[1;34m'brand_name'\u001b[0m\u001b[1;33m]\u001b[0m\u001b[1;33m==\u001b[0m\u001b[1;34m'Sephora'\u001b[0m\u001b[1;33m]\u001b[0m\u001b[1;33m.\u001b[0m\u001b[0mhead\u001b[0m\u001b[1;33m(\u001b[0m\u001b[1;33m)\u001b[0m\u001b[1;33m\u001b[0m\u001b[0m\n\u001b[0m",
      "\u001b[1;31mNameError\u001b[0m: name 'PC1_beat_test' is not defined"
     ]
    }
   ],
   "source": [
    "PC1_beat_test[PC1_beat_test['brand_name']=='Sephora'].head()"
   ]
  },
  {
   "cell_type": "code",
   "execution_count": 34,
   "metadata": {},
   "outputs": [
    {
     "data": {
      "text/html": [
       "<div>\n",
       "<style>\n",
       "    .dataframe thead tr:only-child th {\n",
       "        text-align: right;\n",
       "    }\n",
       "\n",
       "    .dataframe thead th {\n",
       "        text-align: left;\n",
       "    }\n",
       "\n",
       "    .dataframe tbody tr th {\n",
       "        vertical-align: top;\n",
       "    }\n",
       "</style>\n",
       "<table border=\"1\" class=\"dataframe\">\n",
       "  <thead>\n",
       "    <tr style=\"text-align: right;\">\n",
       "      <th></th>\n",
       "      <th>name1</th>\n",
       "      <th>brand_name</th>\n",
       "    </tr>\n",
       "  </thead>\n",
       "  <tbody>\n",
       "    <tr>\n",
       "      <th>33</th>\n",
       "      <td>caudale beauty elixir spray</td>\n",
       "      <td>Sephora</td>\n",
       "    </tr>\n",
       "    <tr>\n",
       "      <th>56</th>\n",
       "      <td>new josie maran divine drip</td>\n",
       "      <td>Sephora</td>\n",
       "    </tr>\n",
       "    <tr>\n",
       "      <th>81</th>\n",
       "      <td>holdfree todayit cosmetics cc hold</td>\n",
       "      <td>Sephora</td>\n",
       "    </tr>\n",
       "    <tr>\n",
       "      <th>112</th>\n",
       "      <td>huda beauty lashes</td>\n",
       "      <td>Sephora</td>\n",
       "    </tr>\n",
       "    <tr>\n",
       "      <th>166</th>\n",
       "      <td>prada candy eau de parfum</td>\n",
       "      <td>Sephora</td>\n",
       "    </tr>\n",
       "    <tr>\n",
       "      <th>174</th>\n",
       "      <td>realher eveshadow pallete</td>\n",
       "      <td>Sephora</td>\n",
       "    </tr>\n",
       "    <tr>\n",
       "      <th>225</th>\n",
       "      <td>glitter matte eyeshadow palette</td>\n",
       "      <td>Sephora</td>\n",
       "    </tr>\n",
       "    <tr>\n",
       "      <th>231</th>\n",
       "      <td>abh brow powder duo</td>\n",
       "      <td>Sephora</td>\n",
       "    </tr>\n",
       "    <tr>\n",
       "      <th>251</th>\n",
       "      <td>abh dipbrow pomade</td>\n",
       "      <td>Sephora</td>\n",
       "    </tr>\n",
       "    <tr>\n",
       "      <th>299</th>\n",
       "      <td>free ship glamglow glow moisturizer</td>\n",
       "      <td>Sephora</td>\n",
       "    </tr>\n",
       "    <tr>\n",
       "      <th>357</th>\n",
       "      <td>murad skincare lot</td>\n",
       "      <td>Sephora</td>\n",
       "    </tr>\n",
       "    <tr>\n",
       "      <th>433</th>\n",
       "      <td>anastasia ultimate glow</td>\n",
       "      <td>Sephora</td>\n",
       "    </tr>\n",
       "    <tr>\n",
       "      <th>498</th>\n",
       "      <td>anastasia lipgloss sepia</td>\n",
       "      <td>Sephora</td>\n",
       "    </tr>\n",
       "    <tr>\n",
       "      <th>576</th>\n",
       "      <td>ofra beverly hills highlighter</td>\n",
       "      <td>Sephora</td>\n",
       "    </tr>\n",
       "    <tr>\n",
       "      <th>656</th>\n",
       "      <td>new philosophy loveswept perfume</td>\n",
       "      <td>Sephora</td>\n",
       "    </tr>\n",
       "    <tr>\n",
       "      <th>846</th>\n",
       "      <td>kindness day sale abh brush</td>\n",
       "      <td>Sephora</td>\n",
       "    </tr>\n",
       "    <tr>\n",
       "      <th>1000</th>\n",
       "      <td>hold melissasephora gift card</td>\n",
       "      <td>Sephora</td>\n",
       "    </tr>\n",
       "    <tr>\n",
       "      <th>1079</th>\n",
       "      <td>rm tonite oz philosophy cleanser</td>\n",
       "      <td>Sephora</td>\n",
       "    </tr>\n",
       "    <tr>\n",
       "      <th>1091</th>\n",
       "      <td>new skincare makeup bundle</td>\n",
       "      <td>Sephora</td>\n",
       "    </tr>\n",
       "    <tr>\n",
       "      <th>1427</th>\n",
       "      <td>laser hair removal bellaflash bysilkn</td>\n",
       "      <td>Sephora</td>\n",
       "    </tr>\n",
       "    <tr>\n",
       "      <th>1485</th>\n",
       "      <td>ofra highlighter rodeo drive</td>\n",
       "      <td>Sephora</td>\n",
       "    </tr>\n",
       "    <tr>\n",
       "      <th>1552</th>\n",
       "      <td>burberry perfume</td>\n",
       "      <td>Sephora</td>\n",
       "    </tr>\n",
       "    <tr>\n",
       "      <th>1572</th>\n",
       "      <td>mystery bundle</td>\n",
       "      <td>Sephora</td>\n",
       "    </tr>\n",
       "    <tr>\n",
       "      <th>1816</th>\n",
       "      <td>sephora allover powder brush</td>\n",
       "      <td>Sephora</td>\n",
       "    </tr>\n",
       "    <tr>\n",
       "      <th>2033</th>\n",
       "      <td>mini becca bundle hold</td>\n",
       "      <td>Sephora</td>\n",
       "    </tr>\n",
       "    <tr>\n",
       "      <th>2481</th>\n",
       "      <td>free ship sephora mascara set</td>\n",
       "      <td>Sephora</td>\n",
       "    </tr>\n",
       "    <tr>\n",
       "      <th>2524</th>\n",
       "      <td>better together faced x kay von</td>\n",
       "      <td>Sephora</td>\n",
       "    </tr>\n",
       "    <tr>\n",
       "      <th>2681</th>\n",
       "      <td>colourpop bundle lovebugpointzero</td>\n",
       "      <td>Sephora</td>\n",
       "    </tr>\n",
       "    <tr>\n",
       "      <th>3066</th>\n",
       "      <td>viktor rolf spicebomb fresh</td>\n",
       "      <td>Sephora</td>\n",
       "    </tr>\n",
       "    <tr>\n",
       "      <th>3140</th>\n",
       "      <td>jeffree star matte lip androgyny</td>\n",
       "      <td>Sephora</td>\n",
       "    </tr>\n",
       "    <tr>\n",
       "      <th>...</th>\n",
       "      <td>...</td>\n",
       "      <td>...</td>\n",
       "    </tr>\n",
       "    <tr>\n",
       "      <th>1478334</th>\n",
       "      <td>dirty works lip plumper</td>\n",
       "      <td>Sephora</td>\n",
       "    </tr>\n",
       "    <tr>\n",
       "      <th>1478563</th>\n",
       "      <td>huge high end bundle new</td>\n",
       "      <td>Sephora</td>\n",
       "    </tr>\n",
       "    <tr>\n",
       "      <th>1478618</th>\n",
       "      <td>masks bundle</td>\n",
       "      <td>Sephora</td>\n",
       "    </tr>\n",
       "    <tr>\n",
       "      <th>1478688</th>\n",
       "      <td>farmacy honeydrop lightweight moisturize</td>\n",
       "      <td>Sephora</td>\n",
       "    </tr>\n",
       "    <tr>\n",
       "      <th>1478771</th>\n",
       "      <td>mac lipstick beauty bundle new pcs</td>\n",
       "      <td>Sephora</td>\n",
       "    </tr>\n",
       "    <tr>\n",
       "      <th>1478844</th>\n",
       "      <td>huge makeup beauty bundle</td>\n",
       "      <td>Sephora</td>\n",
       "    </tr>\n",
       "    <tr>\n",
       "      <th>1479312</th>\n",
       "      <td>josie maran milk hydrating serum</td>\n",
       "      <td>Sephora</td>\n",
       "    </tr>\n",
       "    <tr>\n",
       "      <th>1479397</th>\n",
       "      <td>rmship bottega veneta perfume ml</td>\n",
       "      <td>Sephora</td>\n",
       "    </tr>\n",
       "    <tr>\n",
       "      <th>1479471</th>\n",
       "      <td>colourpop ultra matte lip</td>\n",
       "      <td>Sephora</td>\n",
       "    </tr>\n",
       "    <tr>\n",
       "      <th>1479706</th>\n",
       "      <td>vera wang princess perfume</td>\n",
       "      <td>Sephora</td>\n",
       "    </tr>\n",
       "    <tr>\n",
       "      <th>1479941</th>\n",
       "      <td>new sephora birchbox hair samplers</td>\n",
       "      <td>Sephora</td>\n",
       "    </tr>\n",
       "    <tr>\n",
       "      <th>1480047</th>\n",
       "      <td>skin care bundle</td>\n",
       "      <td>Sephora</td>\n",
       "    </tr>\n",
       "    <tr>\n",
       "      <th>1480058</th>\n",
       "      <td>becca glow go moonstone</td>\n",
       "      <td>Sephora</td>\n",
       "    </tr>\n",
       "    <tr>\n",
       "      <th>1480123</th>\n",
       "      <td>lashes</td>\n",
       "      <td>Sephora</td>\n",
       "    </tr>\n",
       "    <tr>\n",
       "      <th>1480167</th>\n",
       "      <td>tartelette bloom palette</td>\n",
       "      <td>Sephora</td>\n",
       "    </tr>\n",
       "    <tr>\n",
       "      <th>1480284</th>\n",
       "      <td>mini set</td>\n",
       "      <td>Sephora</td>\n",
       "    </tr>\n",
       "    <tr>\n",
       "      <th>1480472</th>\n",
       "      <td>organic teeth whitening sale free ship</td>\n",
       "      <td>Sephora</td>\n",
       "    </tr>\n",
       "    <tr>\n",
       "      <th>1480493</th>\n",
       "      <td>gucci bamboo ml new</td>\n",
       "      <td>Sephora</td>\n",
       "    </tr>\n",
       "    <tr>\n",
       "      <th>1480711</th>\n",
       "      <td>dose colors eyeshadow palette</td>\n",
       "      <td>Sephora</td>\n",
       "    </tr>\n",
       "    <tr>\n",
       "      <th>1481110</th>\n",
       "      <td>artist couture highlight powder</td>\n",
       "      <td>Sephora</td>\n",
       "    </tr>\n",
       "    <tr>\n",
       "      <th>1481348</th>\n",
       "      <td>miami lashes</td>\n",
       "      <td>Sephora</td>\n",
       "    </tr>\n",
       "    <tr>\n",
       "      <th>1481386</th>\n",
       "      <td>chi air hair straightener</td>\n",
       "      <td>Sephora</td>\n",
       "    </tr>\n",
       "    <tr>\n",
       "      <th>1481610</th>\n",
       "      <td>original beautyblender</td>\n",
       "      <td>Sephora</td>\n",
       "    </tr>\n",
       "    <tr>\n",
       "      <th>1481731</th>\n",
       "      <td>pure grace philosophy</td>\n",
       "      <td>Sephora</td>\n",
       "    </tr>\n",
       "    <tr>\n",
       "      <th>1481936</th>\n",
       "      <td>sephora brush</td>\n",
       "      <td>Sephora</td>\n",
       "    </tr>\n",
       "    <tr>\n",
       "      <th>1482222</th>\n",
       "      <td>dermaflash essentials</td>\n",
       "      <td>Sephora</td>\n",
       "    </tr>\n",
       "    <tr>\n",
       "      <th>1482232</th>\n",
       "      <td>becca jacyln hill highlighter</td>\n",
       "      <td>Sephora</td>\n",
       "    </tr>\n",
       "    <tr>\n",
       "      <th>1482234</th>\n",
       "      <td>make forever ultrahd</td>\n",
       "      <td>Sephora</td>\n",
       "    </tr>\n",
       "    <tr>\n",
       "      <th>1482242</th>\n",
       "      <td>piece spectrum makeup brushes</td>\n",
       "      <td>Sephora</td>\n",
       "    </tr>\n",
       "    <tr>\n",
       "      <th>1482476</th>\n",
       "      <td>versace yellow diamond mini</td>\n",
       "      <td>Sephora</td>\n",
       "    </tr>\n",
       "  </tbody>\n",
       "</table>\n",
       "<p>12159 rows × 2 columns</p>\n",
       "</div>"
      ],
      "text/plain": [
       "                                            name1 brand_name\n",
       "33                    caudale beauty elixir spray    Sephora\n",
       "56                    new josie maran divine drip    Sephora\n",
       "81             holdfree todayit cosmetics cc hold    Sephora\n",
       "112                            huda beauty lashes    Sephora\n",
       "166                     prada candy eau de parfum    Sephora\n",
       "174                     realher eveshadow pallete    Sephora\n",
       "225               glitter matte eyeshadow palette    Sephora\n",
       "231                           abh brow powder duo    Sephora\n",
       "251                            abh dipbrow pomade    Sephora\n",
       "299           free ship glamglow glow moisturizer    Sephora\n",
       "357                            murad skincare lot    Sephora\n",
       "433                       anastasia ultimate glow    Sephora\n",
       "498                      anastasia lipgloss sepia    Sephora\n",
       "576                ofra beverly hills highlighter    Sephora\n",
       "656              new philosophy loveswept perfume    Sephora\n",
       "846                   kindness day sale abh brush    Sephora\n",
       "1000                hold melissasephora gift card    Sephora\n",
       "1079             rm tonite oz philosophy cleanser    Sephora\n",
       "1091                   new skincare makeup bundle    Sephora\n",
       "1427        laser hair removal bellaflash bysilkn    Sephora\n",
       "1485                 ofra highlighter rodeo drive    Sephora\n",
       "1552                             burberry perfume    Sephora\n",
       "1572                               mystery bundle    Sephora\n",
       "1816                 sephora allover powder brush    Sephora\n",
       "2033                       mini becca bundle hold    Sephora\n",
       "2481                free ship sephora mascara set    Sephora\n",
       "2524              better together faced x kay von    Sephora\n",
       "2681            colourpop bundle lovebugpointzero    Sephora\n",
       "3066                  viktor rolf spicebomb fresh    Sephora\n",
       "3140             jeffree star matte lip androgyny    Sephora\n",
       "...                                           ...        ...\n",
       "1478334                   dirty works lip plumper    Sephora\n",
       "1478563                  huge high end bundle new    Sephora\n",
       "1478618                              masks bundle    Sephora\n",
       "1478688  farmacy honeydrop lightweight moisturize    Sephora\n",
       "1478771        mac lipstick beauty bundle new pcs    Sephora\n",
       "1478844                 huge makeup beauty bundle    Sephora\n",
       "1479312          josie maran milk hydrating serum    Sephora\n",
       "1479397          rmship bottega veneta perfume ml    Sephora\n",
       "1479471                 colourpop ultra matte lip    Sephora\n",
       "1479706                vera wang princess perfume    Sephora\n",
       "1479941        new sephora birchbox hair samplers    Sephora\n",
       "1480047                          skin care bundle    Sephora\n",
       "1480058                   becca glow go moonstone    Sephora\n",
       "1480123                                    lashes    Sephora\n",
       "1480167                  tartelette bloom palette    Sephora\n",
       "1480284                                  mini set    Sephora\n",
       "1480472    organic teeth whitening sale free ship    Sephora\n",
       "1480493                       gucci bamboo ml new    Sephora\n",
       "1480711             dose colors eyeshadow palette    Sephora\n",
       "1481110           artist couture highlight powder    Sephora\n",
       "1481348                              miami lashes    Sephora\n",
       "1481386                 chi air hair straightener    Sephora\n",
       "1481610                    original beautyblender    Sephora\n",
       "1481731                     pure grace philosophy    Sephora\n",
       "1481936                             sephora brush    Sephora\n",
       "1482222                     dermaflash essentials    Sephora\n",
       "1482232             becca jacyln hill highlighter    Sephora\n",
       "1482234                      make forever ultrahd    Sephora\n",
       "1482242             piece spectrum makeup brushes    Sephora\n",
       "1482476               versace yellow diamond mini    Sephora\n",
       "\n",
       "[12159 rows x 2 columns]"
      ]
     },
     "execution_count": 34,
     "metadata": {},
     "output_type": "execute_result"
    }
   ],
   "source": [
    "PC1_beat_train[PC1_beat_train['brand_name']=='Sephora']"
   ]
  },
  {
   "cell_type": "code",
   "execution_count": 35,
   "metadata": {},
   "outputs": [
    {
     "data": {
      "text/plain": [
       "(96240, 2)"
      ]
     },
     "execution_count": 35,
     "metadata": {},
     "output_type": "execute_result"
    }
   ],
   "source": [
    "PC1_beat_test.shape"
   ]
  },
  {
   "cell_type": "code",
   "execution_count": 3,
   "metadata": {
    "collapsed": true
   },
   "outputs": [],
   "source": [
    "import numpy as np\n",
    "import pandas as pd\n",
    "import re, string, nltk\n",
    "from string import punctuation\n",
    "from collections import Counter\n",
    "pd.options.mode.chained_assignment = None\n",
    "from nltk.tokenize import word_tokenize, sent_tokenize\n",
    "from nltk.corpus import stopwords\n",
    "import _pickle as cPickle\n",
    "import time\n",
    "import numpy\n",
    "from pylab import *\n",
    "import random\n",
    "from nltk.stem.snowball import SnowballStemmer\n",
    "from sklearn.decomposition import TruncatedSVD\n",
    "from sklearn.preprocessing import Normalizer\n",
    "from sklearn.pipeline import make_pipeline\n",
    "from sklearn.feature_extraction.text import TfidfVectorizer, CountVectorizer, FeatureHasher\n",
    "from nltk.stem.porter import*\n",
    "from nltk.stem import PorterStemmer, WordNetLemmatizer\n",
    "stop = set(stopwords.words('english'))"
   ]
  },
  {
   "cell_type": "code",
   "execution_count": 4,
   "metadata": {
    "collapsed": true
   },
   "outputs": [],
   "source": [
    "stemmer = SnowballStemmer(\"english\")"
   ]
  },
  {
   "cell_type": "code",
   "execution_count": 6,
   "metadata": {},
   "outputs": [],
   "source": [
    "i = stopwords.words('english')\n",
    "j = list(string.punctuation) \n",
    "\n",
    "stopwords = set(i).union(j)\n"
   ]
  },
  {
   "cell_type": "code",
   "execution_count": 25,
   "metadata": {
    "collapsed": true
   },
   "outputs": [],
   "source": [
    "def preprocess(x):\n",
    "    x = re.sub('[^a-z\\s]',' ', str(x).lower())   \n",
    "    x = [stemmer.stem(w) for w in x.split() if w not in set(stopwords)]\n",
    "    x= [y for y in x if len(y)>2]\n",
    "    x= list(set(x))\n",
    "    return ' '.join(x)"
   ]
  },
  {
   "cell_type": "code",
   "execution_count": null,
   "metadata": {
    "collapsed": true
   },
   "outputs": [],
   "source": [
    "data[\"item_description\"] = data['item_description'].apply(preprocess)"
   ]
  },
  {
   "cell_type": "code",
   "execution_count": null,
   "metadata": {
    "collapsed": true
   },
   "outputs": [],
   "source": []
  }
 ],
 "metadata": {
  "kernelspec": {
   "display_name": "Python 3",
   "language": "python",
   "name": "python3"
  },
  "language_info": {
   "codemirror_mode": {
    "name": "ipython",
    "version": 3
   },
   "file_extension": ".py",
   "mimetype": "text/x-python",
   "name": "python",
   "nbconvert_exporter": "python",
   "pygments_lexer": "ipython3",
   "version": "3.6.3"
  }
 },
 "nbformat": 4,
 "nbformat_minor": 2
}
